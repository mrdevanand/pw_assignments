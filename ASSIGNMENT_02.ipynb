{
  "nbformat": 4,
  "nbformat_minor": 0,
  "metadata": {
    "colab": {
      "provenance": []
    },
    "kernelspec": {
      "name": "python3",
      "display_name": "Python 3"
    },
    "language_info": {
      "name": "python"
    }
  },
  "cells": [
    {
      "cell_type": "code",
      "source": [
        "# Getting Started With HTML Assignment\n",
        "\n",
        "# 1.8C Write a simple program in HTML  that displays the heading \"HTML defines the content and structure of your website” on the web browser\n",
        "<!DOCTYPE html>\n",
        "<html>\n",
        "<head>\n",
        "    <title>Simple Heading Page</title>\n",
        "</head>\n",
        "<body>\n",
        "    <h1>HTML defines the content and structure of your website</h1>\n",
        "</body>\n",
        "</html>\n",
        "\n",
        "# 2.Explain the purpose of comments in HTML and provide an example of how to use comments in an HTML document.\n",
        "#ANS-  Comments are used in HTML to leave notes for developers or to explain code. They are not shown on the browser.\n",
        "<body>\n",
        "    <!-- This is the main heading of the page -->\n",
        "    <h1>Welcome to My Website</h1>\n",
        "</body>\n",
        "\n",
        "# 3. Write an HTML program that includes a heading, a paragraph of text, a horizontal line, and a line break.\n",
        "#   Arrange these elements to create a simple web page layout\n",
        "\n",
        "<!DOCTYPE html>\n",
        "<html>\n",
        "<head>\n",
        "    <title>Simple Web Page</title>\n",
        "</head>\n",
        "<body>\n",
        "    <h1>My First Web Page</h1>\n",
        "    <p>This is a paragraph of text in HTML.</p>\n",
        "    <hr> <!-- horizontal line -->\n",
        "    Line one<br>\n",
        "    Line two (after line break)\n",
        "</body>\n",
        "</html>\n",
        "\n",
        "# 4.  Write a short note on Tag and element with an example\n",
        "# ANS-A tag is a part of HTML enclosed in angle brackets. It tells the browser what to do with the content.\n",
        "#     Example: <p> is a paragraph tag.\n",
        "#     An element includes the opening tag, the content, and the closing tag\n",
        "#     <p>This is a paragraph.</p>\n",
        "#     In this, <p> is the start tag, </p> is the end tag, and the whole line is an HTML element.\n",
        "\n",
        "# 5. What is the DOCTYPE Declaration in HTML?\n",
        "#   ANS- <!DOCTYPE> is a declaration that tells the browser which version of HTML the page is written in. It must be the first line of your HTML document.\n",
        "\n"
      ],
      "metadata": {
        "id": "0FCV73jOO6P7"
      },
      "execution_count": null,
      "outputs": []
    }
  ]
}